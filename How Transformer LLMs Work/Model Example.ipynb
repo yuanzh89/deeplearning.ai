{
 "cells": [
  {
   "cell_type": "code",
   "id": "initial_id",
   "metadata": {
    "collapsed": true,
    "ExecuteTime": {
     "end_time": "2025-08-21T06:34:43.234033Z",
     "start_time": "2025-08-21T06:34:43.231030Z"
    }
   },
   "source": [
    "# Warning control\n",
    "import warnings\n",
    "import torch\n",
    "\n",
    "warnings.filterwarnings('ignore')"
   ],
   "outputs": [],
   "execution_count": 40
  },
  {
   "metadata": {},
   "cell_type": "markdown",
   "source": "## Loading the LLM",
   "id": "2b090353c23f260f"
  },
  {
   "metadata": {
    "ExecuteTime": {
     "end_time": "2025-08-21T06:34:43.251381Z",
     "start_time": "2025-08-21T06:34:43.249104Z"
    }
   },
   "cell_type": "code",
   "source": "from transformers import AutoModelForCausalLM, AutoTokenizer, pipeline",
   "id": "c6e254ba44183eb",
   "outputs": [],
   "execution_count": 41
  },
  {
   "metadata": {
    "ExecuteTime": {
     "end_time": "2025-08-21T06:34:43.261616Z",
     "start_time": "2025-08-21T06:34:43.258386Z"
    }
   },
   "cell_type": "code",
   "source": [
    "device = torch.accelerator.current_accelerator() \\\n",
    "    if torch.accelerator.is_available() \\\n",
    "    else torch.device('cpu')"
   ],
   "id": "4665ba34ed614eef",
   "outputs": [],
   "execution_count": 42
  },
  {
   "metadata": {
    "ExecuteTime": {
     "end_time": "2025-08-21T06:34:44.476526Z",
     "start_time": "2025-08-21T06:34:43.263621Z"
    }
   },
   "cell_type": "code",
   "source": [
    "tokenizer = AutoTokenizer.from_pretrained(\"microsoft/Phi-3-mini-4k-instruct\")\n",
    "\n",
    "model = AutoModelForCausalLM.from_pretrained(\n",
    "    \"microsoft/Phi-3-mini-4k-instruct\",\n",
    "    device_map=\"cpu\",\n",
    "    torch_dtype=\"auto\",\n",
    "    trust_remote_code=False,  # Use official transformers implementation\n",
    ")"
   ],
   "id": "4eaef11e4028e3ea",
   "outputs": [
    {
     "name": "stderr",
     "output_type": "stream",
     "text": [
      "Loading checkpoint shards: 100%|██████████| 2/2 [00:00<00:00,  3.11it/s]\n"
     ]
    }
   ],
   "execution_count": 43
  },
  {
   "metadata": {
    "ExecuteTime": {
     "end_time": "2025-08-21T06:34:44.495581Z",
     "start_time": "2025-08-21T06:34:44.489691Z"
    }
   },
   "cell_type": "code",
   "source": [
    "# Wrap the model and the tokenizer in a pipeline object that has \"text-generation\" as task\n",
    "generator = pipeline(\n",
    "    \"text-generation\",\n",
    "    model=model,\n",
    "    tokenizer=tokenizer,\n",
    "    return_full_text=False,  # Not include the prompt text in the returned text\n",
    "    max_new_tokens=50,\n",
    "    do_sample=False,  # No randomness in the generated text\n",
    ")"
   ],
   "id": "9e00d43f3b97762f",
   "outputs": [
    {
     "name": "stderr",
     "output_type": "stream",
     "text": [
      "Device set to use cpu\n",
      "The following generation flags are not valid and may be ignored: ['temperature']. Set `TRANSFORMERS_VERBOSITY=info` for more details.\n"
     ]
    }
   ],
   "execution_count": 44
  },
  {
   "metadata": {},
   "cell_type": "markdown",
   "source": "## Generating a Text Response to a Prompt",
   "id": "f1b9f329c42c2440"
  },
  {
   "metadata": {
    "ExecuteTime": {
     "end_time": "2025-08-21T06:34:54.278703Z",
     "start_time": "2025-08-21T06:34:44.501586Z"
    }
   },
   "cell_type": "code",
   "source": [
    "prompt = \"Write an email apologizing to Sarah for the tragic gardening mishap. Explain how it happened. \"\n",
    "\n",
    "output = generator(prompt)\n",
    "\n",
    "print(output[0]['generated_text'])"
   ],
   "id": "207bbe29d8bdeec7",
   "outputs": [
    {
     "name": "stderr",
     "output_type": "stream",
     "text": [
      "The following generation flags are not valid and may be ignored: ['temperature']. Set `TRANSFORMERS_VERBOSITY=info` for more details.\n"
     ]
    },
    {
     "name": "stdout",
     "output_type": "stream",
     "text": [
      "\n",
      "\n",
      "\n",
      "Email to Sarah:\n",
      "\n",
      "Subject: Sincere Apologies for the Gardening Mishap\n",
      "\n",
      "\n",
      "Dear Sarah,\n",
      "\n",
      "\n",
      "I hope this message finds you well. I am writing to express my deepest ap\n"
     ]
    }
   ],
   "execution_count": 45
  },
  {
   "metadata": {
    "ExecuteTime": {
     "end_time": "2025-08-21T06:34:54.299738Z",
     "start_time": "2025-08-21T06:34:54.295739Z"
    }
   },
   "cell_type": "code",
   "source": "model",
   "id": "ca879ed80cab9985",
   "outputs": [
    {
     "data": {
      "text/plain": [
       "Phi3ForCausalLM(\n",
       "  (model): Phi3Model(\n",
       "    (embed_tokens): Embedding(32064, 3072, padding_idx=32000)\n",
       "    (layers): ModuleList(\n",
       "      (0-31): 32 x Phi3DecoderLayer(\n",
       "        (self_attn): Phi3Attention(\n",
       "          (o_proj): Linear(in_features=3072, out_features=3072, bias=False)\n",
       "          (qkv_proj): Linear(in_features=3072, out_features=9216, bias=False)\n",
       "        )\n",
       "        (mlp): Phi3MLP(\n",
       "          (gate_up_proj): Linear(in_features=3072, out_features=16384, bias=False)\n",
       "          (down_proj): Linear(in_features=8192, out_features=3072, bias=False)\n",
       "          (activation_fn): SiLU()\n",
       "        )\n",
       "        (input_layernorm): Phi3RMSNorm((3072,), eps=1e-05)\n",
       "        (post_attention_layernorm): Phi3RMSNorm((3072,), eps=1e-05)\n",
       "        (resid_attn_dropout): Dropout(p=0.0, inplace=False)\n",
       "        (resid_mlp_dropout): Dropout(p=0.0, inplace=False)\n",
       "      )\n",
       "    )\n",
       "    (norm): Phi3RMSNorm((3072,), eps=1e-05)\n",
       "    (rotary_emb): Phi3RotaryEmbedding()\n",
       "  )\n",
       "  (lm_head): Linear(in_features=3072, out_features=32064, bias=False)\n",
       ")"
      ]
     },
     "execution_count": 46,
     "metadata": {},
     "output_type": "execute_result"
    }
   ],
   "execution_count": 46
  },
  {
   "metadata": {
    "ExecuteTime": {
     "end_time": "2025-08-21T06:34:54.310658Z",
     "start_time": "2025-08-21T06:34:54.306741Z"
    }
   },
   "cell_type": "code",
   "source": "model.model.embed_tokens",
   "id": "d105c6631265dbb0",
   "outputs": [
    {
     "data": {
      "text/plain": [
       "Embedding(32064, 3072, padding_idx=32000)"
      ]
     },
     "execution_count": 47,
     "metadata": {},
     "output_type": "execute_result"
    }
   ],
   "execution_count": 47
  },
  {
   "metadata": {
    "ExecuteTime": {
     "end_time": "2025-08-21T06:34:54.323706Z",
     "start_time": "2025-08-21T06:34:54.319663Z"
    }
   },
   "cell_type": "code",
   "source": "model.model",
   "id": "1e673ab786fdf267",
   "outputs": [
    {
     "data": {
      "text/plain": [
       "Phi3Model(\n",
       "  (embed_tokens): Embedding(32064, 3072, padding_idx=32000)\n",
       "  (layers): ModuleList(\n",
       "    (0-31): 32 x Phi3DecoderLayer(\n",
       "      (self_attn): Phi3Attention(\n",
       "        (o_proj): Linear(in_features=3072, out_features=3072, bias=False)\n",
       "        (qkv_proj): Linear(in_features=3072, out_features=9216, bias=False)\n",
       "      )\n",
       "      (mlp): Phi3MLP(\n",
       "        (gate_up_proj): Linear(in_features=3072, out_features=16384, bias=False)\n",
       "        (down_proj): Linear(in_features=8192, out_features=3072, bias=False)\n",
       "        (activation_fn): SiLU()\n",
       "      )\n",
       "      (input_layernorm): Phi3RMSNorm((3072,), eps=1e-05)\n",
       "      (post_attention_layernorm): Phi3RMSNorm((3072,), eps=1e-05)\n",
       "      (resid_attn_dropout): Dropout(p=0.0, inplace=False)\n",
       "      (resid_mlp_dropout): Dropout(p=0.0, inplace=False)\n",
       "    )\n",
       "  )\n",
       "  (norm): Phi3RMSNorm((3072,), eps=1e-05)\n",
       "  (rotary_emb): Phi3RotaryEmbedding()\n",
       ")"
      ]
     },
     "execution_count": 48,
     "metadata": {},
     "output_type": "execute_result"
    }
   ],
   "execution_count": 48
  },
  {
   "metadata": {
    "ExecuteTime": {
     "end_time": "2025-08-21T06:34:54.335708Z",
     "start_time": "2025-08-21T06:34:54.331709Z"
    }
   },
   "cell_type": "code",
   "source": "model.model.layers[0]",
   "id": "3dcefcb06770f76",
   "outputs": [
    {
     "data": {
      "text/plain": [
       "Phi3DecoderLayer(\n",
       "  (self_attn): Phi3Attention(\n",
       "    (o_proj): Linear(in_features=3072, out_features=3072, bias=False)\n",
       "    (qkv_proj): Linear(in_features=3072, out_features=9216, bias=False)\n",
       "  )\n",
       "  (mlp): Phi3MLP(\n",
       "    (gate_up_proj): Linear(in_features=3072, out_features=16384, bias=False)\n",
       "    (down_proj): Linear(in_features=8192, out_features=3072, bias=False)\n",
       "    (activation_fn): SiLU()\n",
       "  )\n",
       "  (input_layernorm): Phi3RMSNorm((3072,), eps=1e-05)\n",
       "  (post_attention_layernorm): Phi3RMSNorm((3072,), eps=1e-05)\n",
       "  (resid_attn_dropout): Dropout(p=0.0, inplace=False)\n",
       "  (resid_mlp_dropout): Dropout(p=0.0, inplace=False)\n",
       ")"
      ]
     },
     "execution_count": 49,
     "metadata": {},
     "output_type": "execute_result"
    }
   ],
   "execution_count": 49
  },
  {
   "metadata": {},
   "cell_type": "markdown",
   "source": "## Generating a Single Token to a Prompt",
   "id": "d9f1067932e93834"
  },
  {
   "metadata": {
    "ExecuteTime": {
     "end_time": "2025-08-21T06:34:54.346464Z",
     "start_time": "2025-08-21T06:34:54.343215Z"
    }
   },
   "cell_type": "code",
   "source": "prompt = \"The capital of France is\"",
   "id": "fc0337f710327633",
   "outputs": [],
   "execution_count": 50
  },
  {
   "metadata": {
    "ExecuteTime": {
     "end_time": "2025-08-21T06:34:54.355377Z",
     "start_time": "2025-08-21T06:34:54.349468Z"
    }
   },
   "cell_type": "code",
   "source": [
    "# Tokenize the input prompt\n",
    "input_ids = tokenizer(prompt, return_tensors=\"pt\").input_ids\n",
    "input_ids"
   ],
   "id": "951d0fcdb3bc7830",
   "outputs": [
    {
     "data": {
      "text/plain": [
       "tensor([[ 450, 7483,  310, 3444,  338]])"
      ]
     },
     "execution_count": 51,
     "metadata": {},
     "output_type": "execute_result"
    }
   ],
   "execution_count": 51
  },
  {
   "metadata": {
    "ExecuteTime": {
     "end_time": "2025-08-21T06:34:54.602108Z",
     "start_time": "2025-08-21T06:34:54.388892Z"
    }
   },
   "cell_type": "code",
   "source": [
    "# Get the output of the model before the lm_head\n",
    "model_output = model.model(input_ids)"
   ],
   "id": "a58b33d8cd62a0b9",
   "outputs": [],
   "execution_count": 52
  },
  {
   "metadata": {
    "ExecuteTime": {
     "end_time": "2025-08-21T06:34:54.634495Z",
     "start_time": "2025-08-21T06:34:54.630624Z"
    }
   },
   "cell_type": "code",
   "source": [
    "# Get the shape the output the model before the lm_head\n",
    "model_output[0].shape"
   ],
   "id": "9b067447754fc73",
   "outputs": [
    {
     "data": {
      "text/plain": [
       "torch.Size([1, 5, 3072])"
      ]
     },
     "execution_count": 53,
     "metadata": {},
     "output_type": "execute_result"
    }
   ],
   "execution_count": 53
  },
  {
   "metadata": {
    "ExecuteTime": {
     "end_time": "2025-08-21T06:34:54.658337Z",
     "start_time": "2025-08-21T06:34:54.650500Z"
    }
   },
   "cell_type": "code",
   "source": [
    "# Get the output of the lm_head\n",
    "lm_head_output = model.lm_head(model_output[0])"
   ],
   "id": "4c49a728da9dfc73",
   "outputs": [],
   "execution_count": 54
  },
  {
   "metadata": {
    "ExecuteTime": {
     "end_time": "2025-08-21T06:34:54.673346Z",
     "start_time": "2025-08-21T06:34:54.669342Z"
    }
   },
   "cell_type": "code",
   "source": "lm_head_output.shape",
   "id": "eb15f73e03ff92ce",
   "outputs": [
    {
     "data": {
      "text/plain": [
       "torch.Size([1, 5, 32064])"
      ]
     },
     "execution_count": 55,
     "metadata": {},
     "output_type": "execute_result"
    }
   ],
   "execution_count": 55
  },
  {
   "metadata": {
    "ExecuteTime": {
     "end_time": "2025-08-21T06:34:54.689360Z",
     "start_time": "2025-08-21T06:34:54.676851Z"
    }
   },
   "cell_type": "code",
   "source": [
    "token_id = lm_head_output[0,-1].argmax(-1)\n",
    "token_id"
   ],
   "id": "4787ec9c398193ed",
   "outputs": [
    {
     "data": {
      "text/plain": [
       "tensor(3681)"
      ]
     },
     "execution_count": 56,
     "metadata": {},
     "output_type": "execute_result"
    }
   ],
   "execution_count": 56
  },
  {
   "metadata": {
    "ExecuteTime": {
     "end_time": "2025-08-21T06:34:54.701763Z",
     "start_time": "2025-08-21T06:34:54.697869Z"
    }
   },
   "cell_type": "code",
   "source": "tokenizer.decode(token_id)",
   "id": "30aae66c700ecd66",
   "outputs": [
    {
     "data": {
      "text/plain": [
       "'Paris'"
      ]
     },
     "execution_count": 57,
     "metadata": {},
     "output_type": "execute_result"
    }
   ],
   "execution_count": 57
  }
 ],
 "metadata": {
  "kernelspec": {
   "display_name": "Python 3",
   "language": "python",
   "name": "python3"
  },
  "language_info": {
   "codemirror_mode": {
    "name": "ipython",
    "version": 2
   },
   "file_extension": ".py",
   "mimetype": "text/x-python",
   "name": "python",
   "nbconvert_exporter": "python",
   "pygments_lexer": "ipython2",
   "version": "2.7.6"
  }
 },
 "nbformat": 4,
 "nbformat_minor": 5
}
