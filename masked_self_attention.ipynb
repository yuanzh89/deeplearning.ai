{
 "cells": [
  {
   "cell_type": "code",
   "id": "initial_id",
   "metadata": {
    "collapsed": true,
    "ExecuteTime": {
     "end_time": "2025-08-20T18:28:57.921896Z",
     "start_time": "2025-08-20T18:28:57.919518Z"
    }
   },
   "source": [
    "import torch  # Tensor library and helper functions\n",
    "import torch.nn as nn  # nn.module() and nn.Linear()\n",
    "import torch.nn.functional as F  # softmax()"
   ],
   "outputs": [],
   "execution_count": 109
  },
  {
   "metadata": {
    "ExecuteTime": {
     "end_time": "2025-08-20T18:28:57.932815Z",
     "start_time": "2025-08-20T18:28:57.923899Z"
    }
   },
   "cell_type": "code",
   "source": [
    "class MaskedSelfAttention(nn.Module):\n",
    "    def __init__(self, d_model=2, row_dim=0, col_dim=1):\n",
    "        super().__init__()\n",
    "\n",
    "        self.W_q = nn.Linear(in_features=d_model, out_features=d_model, bias=False)\n",
    "        self.W_k = nn.Linear(in_features=d_model, out_features=d_model, bias=False)\n",
    "        self.W_v = nn.Linear(in_features=d_model, out_features=d_model, bias=False)\n",
    "\n",
    "        self.row_dim = row_dim\n",
    "        self.col_dim = col_dim\n",
    "\n",
    "    def forward(self, token_encodings, mask=None):\n",
    "        q = self.W_q(token_encodings)\n",
    "        k = self.W_k(token_encodings)\n",
    "        v = self.W_v(token_encodings)\n",
    "\n",
    "        sims = torch.matmul(q, k.transpose(dim0=self.row_dim, dim1=self.col_dim))\n",
    "\n",
    "        scaled_sims = sims / torch.tensor(k.size(self.col_dim)**0.5)\n",
    "\n",
    "        if mask is not None:\n",
    "            ## Here we are masking out things we don't want to pay attention to\n",
    "            ##\n",
    "            ## We replace values we wanted masked out\n",
    "            ## with a very small negative number so that the SoftMax() function\n",
    "            ## will give all masked elements an output value (or \"probability\") of 0.\n",
    "            scaled_sims = scaled_sims.masked_fill(mask=mask, value=-1e9)\n",
    "\n",
    "        # TODO: Why do we aggregate on column dimension but not on row dimension?\n",
    "        attention_percents = F.softmax(scaled_sims, dim=self.col_dim)\n",
    "\n",
    "        attention_scores = torch.matmul(attention_percents, v)\n",
    "\n",
    "        return attention_scores"
   ],
   "id": "8b5ffc206391c445",
   "outputs": [],
   "execution_count": 110
  },
  {
   "metadata": {
    "ExecuteTime": {
     "end_time": "2025-08-20T18:28:57.942976Z",
     "start_time": "2025-08-20T18:28:57.937821Z"
    }
   },
   "cell_type": "code",
   "source": [
    "## create a matrix of token encodings...\n",
    "encodings_matrix = torch.tensor([[1.16, 0.23],\n",
    "                                 [0.57, 1.36],\n",
    "                                 [4.41, -2.16]])\n",
    "\n",
    "## set the seed for the random number generator\n",
    "torch.manual_seed(42)\n",
    "\n",
    "masked_self_attention = MaskedSelfAttention(d_model=2, row_dim=0, col_dim=1)\n",
    "\n",
    "mask = torch.tril(torch.ones(3, 3))\n",
    "mask = mask == 0\n",
    "mask # print out the mask"
   ],
   "id": "11752b2637be8c7c",
   "outputs": [
    {
     "data": {
      "text/plain": [
       "tensor([[False,  True,  True],\n",
       "        [False, False,  True],\n",
       "        [False, False, False]])"
      ]
     },
     "execution_count": 111,
     "metadata": {},
     "output_type": "execute_result"
    }
   ],
   "execution_count": 111
  },
  {
   "metadata": {
    "ExecuteTime": {
     "end_time": "2025-08-20T18:28:57.978666Z",
     "start_time": "2025-08-20T18:28:57.975283Z"
    }
   },
   "cell_type": "code",
   "source": "masked_self_attention(encodings_matrix, mask).detach().numpy()",
   "id": "730521e2cf9c8786",
   "outputs": [
    {
     "data": {
      "text/plain": [
       "array([[ 0.60376686,  0.74339145],\n",
       "       [-0.0061961 ,  0.6071508 ],\n",
       "       [ 3.498918  ,  2.242719  ]], dtype=float32)"
      ]
     },
     "execution_count": 112,
     "metadata": {},
     "output_type": "execute_result"
    }
   ],
   "execution_count": 112
  },
  {
   "metadata": {
    "ExecuteTime": {
     "end_time": "2025-08-20T18:28:58.083812Z",
     "start_time": "2025-08-20T18:28:58.079862Z"
    }
   },
   "cell_type": "code",
   "source": [
    "## print out the weight matrix that creates the queries\n",
    "masked_self_attention.W_q.weight.transpose(0, 1).detach().numpy()"
   ],
   "id": "166ba74d73c5e701",
   "outputs": [
    {
     "data": {
      "text/plain": [
       "array([[ 0.5406104 , -0.16565567],\n",
       "       [ 0.5869042 ,  0.6495562 ]], dtype=float32)"
      ]
     },
     "execution_count": 113,
     "metadata": {},
     "output_type": "execute_result"
    }
   ],
   "execution_count": 113
  },
  {
   "metadata": {
    "ExecuteTime": {
     "end_time": "2025-08-20T18:28:58.138435Z",
     "start_time": "2025-08-20T18:28:58.134435Z"
    }
   },
   "cell_type": "code",
   "source": [
    "## print out the weight matrix that creates the keys\n",
    "masked_self_attention.W_k.weight.transpose(0, 1).detach().numpy()"
   ],
   "id": "2186cc6adae5ef15",
   "outputs": [
    {
     "data": {
      "text/plain": [
       "array([[-0.15492964, -0.3442585 ],\n",
       "       [ 0.14268756,  0.41527158]], dtype=float32)"
      ]
     },
     "execution_count": 114,
     "metadata": {},
     "output_type": "execute_result"
    }
   ],
   "execution_count": 114
  },
  {
   "metadata": {
    "ExecuteTime": {
     "end_time": "2025-08-20T18:28:58.240774Z",
     "start_time": "2025-08-20T18:28:58.237851Z"
    }
   },
   "cell_type": "code",
   "source": [
    "## print out the weight matrix that creates the values\n",
    "masked_self_attention.W_v.weight.transpose(0, 1).detach().numpy()"
   ],
   "id": "dda69db0c4874377",
   "outputs": [
    {
     "data": {
      "text/plain": [
       "array([[ 0.62334496,  0.61461455],\n",
       "       [-0.5187534 ,  0.13234162]], dtype=float32)"
      ]
     },
     "execution_count": 115,
     "metadata": {},
     "output_type": "execute_result"
    }
   ],
   "execution_count": 115
  },
  {
   "metadata": {
    "ExecuteTime": {
     "end_time": "2025-08-20T18:28:58.363191Z",
     "start_time": "2025-08-20T18:28:58.359192Z"
    }
   },
   "cell_type": "code",
   "source": [
    "## calculate the queries\n",
    "masked_self_attention.W_q(encodings_matrix).detach().numpy()"
   ],
   "id": "9f378fd44354cc7",
   "outputs": [
    {
     "data": {
      "text/plain": [
       "array([[ 0.76209605, -0.04276264],\n",
       "       [ 1.1063377 ,  0.78897274],\n",
       "       [ 1.1163784 , -2.133583  ]], dtype=float32)"
      ]
     },
     "execution_count": 116,
     "metadata": {},
     "output_type": "execute_result"
    }
   ],
   "execution_count": 116
  },
  {
   "metadata": {
    "ExecuteTime": {
     "end_time": "2025-08-20T18:28:58.484942Z",
     "start_time": "2025-08-20T18:28:58.481642Z"
    }
   },
   "cell_type": "code",
   "source": [
    "## calculate the keys\n",
    "masked_self_attention.W_k(encodings_matrix).detach().numpy()"
   ],
   "id": "a0dd17aad578d83",
   "outputs": [
    {
     "data": {
      "text/plain": [
       "array([[-0.14690024, -0.30382735],\n",
       "       [ 0.10574519,  0.368542  ],\n",
       "       [-0.9914448 , -2.4151666 ]], dtype=float32)"
      ]
     },
     "execution_count": 117,
     "metadata": {},
     "output_type": "execute_result"
    }
   ],
   "execution_count": 117
  },
  {
   "metadata": {
    "ExecuteTime": {
     "end_time": "2025-08-20T18:28:58.537358Z",
     "start_time": "2025-08-20T18:28:58.533359Z"
    }
   },
   "cell_type": "code",
   "source": [
    "## calculate the values\n",
    "masked_self_attention.W_v(encodings_matrix).detach().numpy()"
   ],
   "id": "2d096ed550f79f",
   "outputs": [
    {
     "data": {
      "text/plain": [
       "array([[ 0.60376686,  0.74339145],\n",
       "       [-0.35019803,  0.5303149 ],\n",
       "       [ 3.8694587 ,  2.4245923 ]], dtype=float32)"
      ]
     },
     "execution_count": 118,
     "metadata": {},
     "output_type": "execute_result"
    }
   ],
   "execution_count": 118
  },
  {
   "metadata": {
    "ExecuteTime": {
     "end_time": "2025-08-20T18:28:58.652397Z",
     "start_time": "2025-08-20T18:28:58.648353Z"
    }
   },
   "cell_type": "code",
   "source": [
    "q = masked_self_attention.W_q(encodings_matrix)\n",
    "q.detach().numpy()"
   ],
   "id": "81662afc2fdb54f1",
   "outputs": [
    {
     "data": {
      "text/plain": [
       "array([[ 0.76209605, -0.04276264],\n",
       "       [ 1.1063377 ,  0.78897274],\n",
       "       [ 1.1163784 , -2.133583  ]], dtype=float32)"
      ]
     },
     "execution_count": 119,
     "metadata": {},
     "output_type": "execute_result"
    }
   ],
   "execution_count": 119
  },
  {
   "metadata": {
    "ExecuteTime": {
     "end_time": "2025-08-20T18:28:58.700768Z",
     "start_time": "2025-08-20T18:28:58.696493Z"
    }
   },
   "cell_type": "code",
   "source": [
    "k = masked_self_attention.W_k(encodings_matrix)\n",
    "k.detach().numpy()"
   ],
   "id": "8b5247aaaedbf6f0",
   "outputs": [
    {
     "data": {
      "text/plain": [
       "array([[-0.14690024, -0.30382735],\n",
       "       [ 0.10574519,  0.368542  ],\n",
       "       [-0.9914448 , -2.4151666 ]], dtype=float32)"
      ]
     },
     "execution_count": 120,
     "metadata": {},
     "output_type": "execute_result"
    }
   ],
   "execution_count": 120
  },
  {
   "metadata": {
    "ExecuteTime": {
     "end_time": "2025-08-20T18:28:58.804119Z",
     "start_time": "2025-08-20T18:28:58.800813Z"
    }
   },
   "cell_type": "code",
   "source": [
    "sims = torch.matmul(q, k.transpose(dim0=0, dim1=1))\n",
    "sims.detach().numpy()"
   ],
   "id": "c65ae68c8788f816",
   "outputs": [
    {
     "data": {
      "text/plain": [
       "array([[-0.09895963,  0.06482816, -0.6522973 ],\n",
       "       [-0.40223277,  0.40775946, -3.0023735 ],\n",
       "       [ 0.4842446 , -0.6682633 ,  4.0461307 ]], dtype=float32)"
      ]
     },
     "execution_count": 121,
     "metadata": {},
     "output_type": "execute_result"
    }
   ],
   "execution_count": 121
  },
  {
   "metadata": {
    "ExecuteTime": {
     "end_time": "2025-08-20T18:28:58.851370Z",
     "start_time": "2025-08-20T18:28:58.848952Z"
    }
   },
   "cell_type": "code",
   "source": "scaled_sims = sims / (torch.tensor(2)**0.5)",
   "id": "4f95762c0a215d08",
   "outputs": [],
   "execution_count": 122
  },
  {
   "metadata": {
    "ExecuteTime": {
     "end_time": "2025-08-20T18:28:58.972244Z",
     "start_time": "2025-08-20T18:28:58.969200Z"
    }
   },
   "cell_type": "code",
   "source": "scaled_sims.detach().numpy()",
   "id": "84747b04037d3e2d",
   "outputs": [
    {
     "data": {
      "text/plain": [
       "array([[-0.06997503,  0.04584043, -0.46124387],\n",
       "       [-0.28442153,  0.28832948, -2.1229987 ],\n",
       "       [ 0.34241265, -0.47253352,  2.8610466 ]], dtype=float32)"
      ]
     },
     "execution_count": 123,
     "metadata": {},
     "output_type": "execute_result"
    }
   ],
   "execution_count": 123
  },
  {
   "metadata": {
    "ExecuteTime": {
     "end_time": "2025-08-20T18:28:59.014222Z",
     "start_time": "2025-08-20T18:28:59.011251Z"
    }
   },
   "cell_type": "code",
   "source": [
    "masked_scaled_sims = scaled_sims.masked_fill(mask=mask, value=-1e9)\n",
    "masked_scaled_sims.detach().numpy()"
   ],
   "id": "84e65ab472f715ca",
   "outputs": [
    {
     "data": {
      "text/plain": [
       "array([[-6.9975026e-02, -1.0000000e+09, -1.0000000e+09],\n",
       "       [-2.8442153e-01,  2.8832948e-01, -1.0000000e+09],\n",
       "       [ 3.4241265e-01, -4.7253352e-01,  2.8610466e+00]], dtype=float32)"
      ]
     },
     "execution_count": 124,
     "metadata": {},
     "output_type": "execute_result"
    }
   ],
   "execution_count": 124
  },
  {
   "metadata": {
    "ExecuteTime": {
     "end_time": "2025-08-20T18:28:59.116359Z",
     "start_time": "2025-08-20T18:28:59.113052Z"
    }
   },
   "cell_type": "code",
   "source": [
    "attention_percents = F.softmax(masked_scaled_sims, dim=1)\n",
    "attention_percents.detach().numpy()"
   ],
   "id": "d388c87fd6d3fc14",
   "outputs": [
    {
     "data": {
      "text/plain": [
       "array([[1.        , 0.        , 0.        ],\n",
       "       [0.36060232, 0.63939774, 0.        ],\n",
       "       [0.0721798 , 0.03195134, 0.8958689 ]], dtype=float32)"
      ]
     },
     "execution_count": 125,
     "metadata": {},
     "output_type": "execute_result"
    }
   ],
   "execution_count": 125
  },
  {
   "metadata": {
    "ExecuteTime": {
     "end_time": "2025-08-20T18:28:59.161525Z",
     "start_time": "2025-08-20T18:28:59.157524Z"
    }
   },
   "cell_type": "code",
   "source": "torch.matmul(attention_percents, masked_self_attention.W_v(encodings_matrix)).detach().numpy()",
   "id": "b8bcf9fff392ee99",
   "outputs": [
    {
     "data": {
      "text/plain": [
       "array([[ 0.60376686,  0.74339145],\n",
       "       [-0.0061961 ,  0.6071508 ],\n",
       "       [ 3.498918  ,  2.242719  ]], dtype=float32)"
      ]
     },
     "execution_count": 126,
     "metadata": {},
     "output_type": "execute_result"
    }
   ],
   "execution_count": 126
  }
 ],
 "metadata": {
  "kernelspec": {
   "display_name": "Python 3",
   "language": "python",
   "name": "python3"
  },
  "language_info": {
   "codemirror_mode": {
    "name": "ipython",
    "version": 2
   },
   "file_extension": ".py",
   "mimetype": "text/x-python",
   "name": "python",
   "nbconvert_exporter": "python",
   "pygments_lexer": "ipython2",
   "version": "2.7.6"
  }
 },
 "nbformat": 4,
 "nbformat_minor": 5
}
